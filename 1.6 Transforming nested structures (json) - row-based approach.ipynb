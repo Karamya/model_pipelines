{
 "cells": [
  {
   "cell_type": "markdown",
   "metadata": {},
   "source": [
    "Sometimes your input data can be nested with more difficult structure than a simple table or a matrix.\n",
    "\n",
    "In such cases it is sometime useful to shift mental orientation to analyze and extract information froms rows rather then non-defined columns."
   ]
  },
  {
   "cell_type": "code",
   "execution_count": 1,
   "metadata": {
    "collapsed": false
   },
   "outputs": [
    {
     "data": {
      "text/html": [
       "<style>/*@font-face {\n",
       "\tfont-family: \"Computer Modern\";\n",
       "\tsrc: url('http://9dbb143991406a7c655e-aa5fcb0a5a4ec34cff238a2d56ca4144.r56.cf5.rackcdn.com/cmunss.otf');\n",
       "}\n",
       "@font-face {\n",
       "\tfont-family: \"Computer Modern\";\n",
       "\tfont-weight: bold;\n",
       "\tsrc: url('http://9dbb143991406a7c655e-aa5fcb0a5a4ec34cff238a2d56ca4144.r56.cf5.rackcdn.com/cmunsx.otf');\n",
       "}\n",
       "@font-face {\n",
       "\tfont-family: \"Computer Modern\";\n",
       "\tfont-style: oblique;\n",
       "\tsrc: url('http://9dbb143991406a7c655e-aa5fcb0a5a4ec34cff238a2d56ca4144.r56.cf5.rackcdn.com/cmunsi.otf');\n",
       "}\n",
       "@font-face {\n",
       "\tfont-family: \"Computer Modern\";\n",
       "\tfont-weight: bold;\n",
       "\tfont-style: oblique;\n",
       "\tsrc: url('http://9dbb143991406a7c655e-aa5fcb0a5a4ec34cff238a2d56ca4144.r56.cf5.rackcdn.com/cmunso.otf');\n",
       "}*/\n",
       "\n",
       ".navbar-brand, .current_kernel_logo {display:none}\n",
       ".container {\n",
       "    width:80%;    \n",
       "}\n",
       "\n",
       "h1 {\n",
       "\tfont-family: Helvetica, serif;\n",
       "}\n",
       "h4{\n",
       "\tmargin-top:12px;\n",
       "\tmargin-bottom: 3px;\n",
       "   }\n",
       "div.text_cell_render{\n",
       "\tfont-family: Computer Modern, \"Helvetica Neue\", Arial, Helvetica, Geneva, sans-serif;\n",
       "\tline-height: 145%;\n",
       "\tfont-size: 100%;\n",
       "\twidth:100%;\n",
       "\tmargin-left:auto;\n",
       "\tmargin-right:auto;\n",
       "}\n",
       ".CodeMirror{\n",
       "\t\tfont-family: \"Source Code Pro\", source-code-pro,Consolas, monospace;\n",
       "}\n",
       ".text_cell_render h5 {\n",
       "\tfont-weight: 300;\n",
       "\tfont-size: 22pt;\n",
       "\t/*color: #4057A1;*/\n",
       "\tfont-style: italic;\n",
       "\tmargin-bottom: .5em;\n",
       "\tmargin-top: 0.5em;\n",
       "\tdisplay: block;\n",
       "}\n",
       "\n",
       ".warning{\n",
       "\tcolor: rgb( 240, 20, 20 )\n",
       "\t}   \n",
       "\n",
       "div.spoiler {\n",
       "\tdisplay: none;\n",
       "}\n",
       "\n",
       ".rendered_html code {\n",
       "\tborder: 0;\n",
       "\t/*background-color: #eee;*/\n",
       "\tfont-size: 100%;\n",
       "\tpadding: 1px 2px;\n",
       "}\n",
       "</style>"
      ],
      "text/plain": [
       "<IPython.core.display.HTML object>"
      ]
     },
     "execution_count": 1,
     "metadata": {},
     "output_type": "execute_result"
    }
   ],
   "source": [
    "from utils import css_from_file\n",
    "css_from_file('style/style.css')"
   ]
  },
  {
   "cell_type": "code",
   "execution_count": 2,
   "metadata": {
    "collapsed": false
   },
   "outputs": [
    {
     "name": "stdout",
     "output_type": "stream",
     "text": [
      "[nltk_data] Downloading package punkt to /home/ramya/nltk_data...\n",
      "[nltk_data]   Package punkt is already up-to-date!\n"
     ]
    },
    {
     "data": {
      "text/plain": [
       "True"
      ]
     },
     "execution_count": 2,
     "metadata": {},
     "output_type": "execute_result"
    }
   ],
   "source": [
    "import json\n",
    "import numpy as np\n",
    "import pprint\n",
    "from nltk import download, word_tokenize\n",
    "\n",
    "download('punkt')"
   ]
  },
  {
   "cell_type": "code",
   "execution_count": 3,
   "metadata": {
    "collapsed": true
   },
   "outputs": [],
   "source": [
    "with open(\"data/companies/companies.json\") as dataf:\n",
    "    data = [json.loads(line) for line in dataf]"
   ]
  },
  {
   "cell_type": "markdown",
   "metadata": {},
   "source": [
    "An example of deeply nested data with various data types:\n",
    "\n",
    "Exercise:\n",
    "\n",
    "1. Name variable types\n",
    "2. What do you do with lists, geo location?\n",
    "3. What do you do with counts?"
   ]
  },
  {
   "cell_type": "code",
   "execution_count": 4,
   "metadata": {
    "collapsed": false,
    "scrolled": true
   },
   "outputs": [
    {
     "name": "stdout",
     "output_type": "stream",
     "text": [
      "{'description': \"Here at 30 Day Labs we test mobile technologies so you don't \"\n",
      "                'have to! We constantly test and implement the latest '\n",
      "                'strategies and measure the performance so you can make sure '\n",
      "                'what you implement in your Apps will get you the results you '\n",
      "                'want.',\n",
      " 'domain': '30daylabs.com',\n",
      " 'extension': {'address': 'Sydney Area, Australia',\n",
      "               'geo_location': {'country': 'Australia',\n",
      "                                'formatted_address': 'Sydney, Australia',\n",
      "                                'location': [-33.8907897, 151.1896257],\n",
      "                                'raw': 'Sydney Area, Australia',\n",
      "                                'timezone': 'Australia/Sydney'},\n",
      "               'geo_location_triple': {'administrative_area': 'New South Wales',\n",
      "                                       'country': 'Australia'},\n",
      "               'industries': [{'count': 1, 'industry': 'Computer Software'}],\n",
      "               'job_positions': [{'count': 1, 'job_position': 'Founder'}],\n",
      "               'name': '30 Day Labs',\n",
      "               'persons_in_database': 1,\n",
      "               'skills': [{'count': 1, 'skill': 'Online Marketing'},\n",
      "                          {'count': 1, 'skill': 'App engagement'},\n",
      "                          {'count': 1, 'skill': 'Outsourcing'},\n",
      "                          {'count': 1, 'skill': 'App monetisation'},\n",
      "                          {'count': 1, 'skill': 'CSS'},\n",
      "                          {'count': 1, 'skill': 'E-commerce'},\n",
      "                          {'count': 1, 'skill': 'Mobile Applications'},\n",
      "                          {'count': 1, 'skill': 'Management'},\n",
      "                          {'count': 1, 'skill': 'PHP'},\n",
      "                          {'count': 1, 'skill': 'CMS'},\n",
      "                          {'count': 1, 'skill': 'Android'},\n",
      "                          {'count': 1, 'skill': 'Analytics'},\n",
      "                          {'count': 1, 'skill': 'App Business'},\n",
      "                          {'count': 1, 'skill': 'iOS development'},\n",
      "                          {'count': 1, 'skill': 'Web Marketing'},\n",
      "                          {'count': 1, 'skill': 'Business Development'},\n",
      "                          {'count': 1, 'skill': 'Social Media'}],\n",
      "               'url': 'linkedin.com/company/30-day-labs'},\n",
      " 'founded_year': 2012,\n",
      " 'industries': ['Information Technology and Services'],\n",
      " 'metadata': {'documents': [{'ids': ['f5667a73a84f57e8a2075f47b9c21d09'],\n",
      "                             'path': 'linkedin'},\n",
      "                            {'ids': ['43f2538cf3225f5186d6d969beb121cc'],\n",
      "                             'path': 'built_with'}],\n",
      "              'urls': []},\n",
      " 'name': '30 Day Labs',\n",
      " 'public_url': 'https://www.linkedin.com/company/30-day-labs',\n",
      " 'raw_text': \"Here at 30 Day Labs we test mobile technologies so you don't \"\n",
      "             'have to! We constantly test and implement the latest strategies '\n",
      "             'and measure the performance so you can make sure what you '\n",
      "             'implement in your Apps will get you the results you want.',\n",
      " 'size_begin': 1,\n",
      " 'size_end': 10,\n",
      " 'specialties': ['App development',\n",
      "                 'web development',\n",
      "                 'Machine Learning',\n",
      "                 'Mobile Solutions',\n",
      "                 'Technology Solutions for Business'],\n",
      " 'technologies': ['MediaElement.js',\n",
      "                  'Min Width',\n",
      "                  'CDN JS',\n",
      "                  'Active Campaign',\n",
      "                  'Localytics',\n",
      "                  'Moment JS',\n",
      "                  'Facebook Custom Audiences',\n",
      "                  'Google Analytics',\n",
      "                  'DoubleClick.Net',\n",
      "                  'nginx',\n",
      "                  'AddThisEvent',\n",
      "                  'IPv6',\n",
      "                  'Viewport Meta',\n",
      "                  'GoSquared',\n",
      "                  'Mixpanel',\n",
      "                  'Comodo SSL',\n",
      "                  'Optimizely',\n",
      "                  'Facebook for Websites',\n",
      "                  'Facebook SDK',\n",
      "                  'Autopilot SPF',\n",
      "                  'ClickFunnels',\n",
      "                  'CloudFlare Hosting',\n",
      "                  'Sendgrid',\n",
      "                  'Orientation',\n",
      "                  'SPF',\n",
      "                  'jQuery',\n",
      "                  'CloudFlare',\n",
      "                  'CloudFlare SSL',\n",
      "                  'YouTube IFrame Upload',\n",
      "                  'Segment',\n",
      "                  'Google Font API',\n",
      "                  'Font Awesome',\n",
      "                  'Google Universal Analytics',\n",
      "                  'Hostgator Mail',\n",
      "                  'CloudFront',\n",
      "                  'BootstrapCDN',\n",
      "                  'Max Width',\n",
      "                  'PushCrew',\n",
      "                  'VideoJS',\n",
      "                  'CloudFlare DNS',\n",
      "                  'Google Tag Manager',\n",
      "                  'Hotjar',\n",
      "                  'Comodo PositiveSSL'],\n",
      " 'uuid': 'f5667a73a84f57e8a2075f47b9c21d09',\n",
      " 'website': 'https://www.30daylabs.com'}\n"
     ]
    }
   ],
   "source": [
    "pprint.pprint(data[6])"
   ]
  },
  {
   "cell_type": "markdown",
   "metadata": {},
   "source": [
    "With such data you can be sure that you'll need a sparse matrix.\n",
    "\n",
    "Remember `DictVectorizer` class? It accepts a dictionary and returns a sparse matrix.\n",
    "\n",
    "So the only thing we need is a function such that \n",
    "\n",
    "```f(Json) => Dict```\n",
    "\n",
    "First we need a function `deep_select` to retrieve nested values"
   ]
  },
  {
   "cell_type": "code",
   "execution_count": 5,
   "metadata": {
    "collapsed": false
   },
   "outputs": [],
   "source": [
    "### write your deep_select function here\n",
    "\n",
    "def deep_select(initial_path, default=None):\n",
    "    def helper(row, path=initial_path):\n",
    "        if len(path) == 1:\n",
    "            return row.get(path[0]) or default\n",
    "        elif path[0] in row:\n",
    "            return helper(row[path[0]], path[1:])\n",
    "        else:\n",
    "            return default\n",
    "    return helper\n",
    "    \n",
    "jsondata = {'a': \n",
    "    {'b': \n",
    "         {'c': 1}\n",
    "    }\n",
    "}\n",
    "\n",
    "# tests\n",
    "assert deep_select(['a','b','c'])(jsondata) == 1\n",
    "assert deep_select(['a','b'])(jsondata) == {'c': 1}\n",
    "assert deep_select(['x'])(jsondata) == None"
   ]
  },
  {
   "cell_type": "markdown",
   "metadata": {},
   "source": [
    "Click here to see the deep_select solution\n",
    "<div class=\"spoiler\">\n",
    "\n",
    "def deep_select(initial_path, default=None):\n",
    "    def helper(row, path=initial_path):\n",
    "        if len(path) == 1:\n",
    "            return row.get(path[0]) or default\n",
    "        elif path[0] in row:\n",
    "            return helper(row[path[0]], path[1:])\n",
    "        else:\n",
    "            return default\n",
    "    return helper\n",
    "\n",
    "</a>"
   ]
  },
  {
   "cell_type": "code",
   "execution_count": 6,
   "metadata": {
    "collapsed": false,
    "scrolled": true
   },
   "outputs": [
    {
     "data": {
      "text/plain": [
       "{'apple mobile web clips icon': 1,\n",
       " 'canonical content tag': 1,\n",
       " 'cascading style sheets': 1,\n",
       " 'conditional comments': 1,\n",
       " 'contact form 7': 1,\n",
       " 'flexslider': 1,\n",
       " 'font awesome': 1,\n",
       " 'friends network': 1,\n",
       " 'google analytics': 1,\n",
       " 'google font api': 1,\n",
       " 'google universal analytics': 1,\n",
       " 'html 5 specific tags': 1,\n",
       " 'html5 doctype': 1,\n",
       " 'html5shiv': 1,\n",
       " 'javascript': 1,\n",
       " 'jquery': 1,\n",
       " 'jquery form': 1,\n",
       " 'jquery prettyphoto': 1,\n",
       " 'jquery waypoints': 1,\n",
       " 'json-ld': 1,\n",
       " 'live writer support': 1,\n",
       " 'meta description': 1,\n",
       " 'nginx': 1,\n",
       " 'nginx 1.8': 1,\n",
       " 'nivo slider': 1,\n",
       " 'open graph protocol': 1,\n",
       " 'php': 1,\n",
       " 'pingback support': 1,\n",
       " 'really simple discovery': 1,\n",
       " 'rss': 1,\n",
       " 'sitelinks search box': 1,\n",
       " 'slider revolution': 1,\n",
       " 'themepunch': 1,\n",
       " 'utf-8': 1,\n",
       " 'viewport meta': 1,\n",
       " 'visual composer': 1,\n",
       " 'windows 8 pinning': 1,\n",
       " 'wordpress': 1,\n",
       " 'wordpress 4.1': 1,\n",
       " 'wordpress plugins': 1,\n",
       " 'yoast google analytics for wordpress': 1,\n",
       " 'yoast plugins': 1}"
      ]
     },
     "execution_count": 6,
     "metadata": {},
     "output_type": "execute_result"
    }
   ],
   "source": [
    "def create_technologies_features(row):\n",
    "    features = {}\n",
    "    for tech in deep_select(['technologies'],[])(row):\n",
    "        features[tech.lower()] = 1\n",
    "    return features\n",
    "\n",
    "create_technologies_features(data[1])"
   ]
  },
  {
   "cell_type": "markdown",
   "metadata": {},
   "source": [
    "So far so good what about text?"
   ]
  },
  {
   "cell_type": "code",
   "execution_count": 7,
   "metadata": {
    "collapsed": false,
    "scrolled": true
   },
   "outputs": [
    {
     "data": {
      "text/plain": [
       "{'description=,': 1,\n",
       " 'description=.': 1,\n",
       " 'description=10': 1,\n",
       " 'description=and': 1,\n",
       " 'description=any': 1,\n",
       " 'description=apart': 1,\n",
       " 'description=as': 1,\n",
       " 'description=aucklands': 1,\n",
       " 'description=best': 1,\n",
       " 'description=blasting': 1,\n",
       " 'description=building': 1,\n",
       " 'description=chemical': 1,\n",
       " 'description=cleaning': 1,\n",
       " 'description=cleans': 1,\n",
       " 'description=commitment': 1,\n",
       " 'description=companies': 1,\n",
       " 'description=company': 1,\n",
       " 'description=complex': 1,\n",
       " 'description=customer': 1,\n",
       " 'description=decks': 1,\n",
       " 'description=driveways': 1,\n",
       " 'description=equipment': 1,\n",
       " 'description=experience': 1,\n",
       " 'description=exterior': 1,\n",
       " 'description=for': 1,\n",
       " 'description=from': 1,\n",
       " 'description=have': 1,\n",
       " 'description=hitting': 1,\n",
       " 'description=home': 1,\n",
       " 'description=homes': 1,\n",
       " 'description=house': 1,\n",
       " 'description=houses': 1,\n",
       " 'description=in': 1,\n",
       " 'description=industry': 1,\n",
       " 'description=market': 1,\n",
       " 'description=of': 1,\n",
       " 'description=or': 1,\n",
       " 'description=our': 1,\n",
       " 'description=over': 1,\n",
       " 'description=owners': 1,\n",
       " 'description=paint': 1,\n",
       " 'description=painting': 1,\n",
       " 'description=pre': 1,\n",
       " 'description=provide': 1,\n",
       " 'description=quality': 1,\n",
       " 'description=roofs': 1,\n",
       " 'description=sale': 1,\n",
       " 'description=schools': 1,\n",
       " 'description=service': 1,\n",
       " 'description=sets': 1,\n",
       " 'description=sized': 1,\n",
       " 'description=soft': 1,\n",
       " 'description=specialising': 1,\n",
       " 'description=surface': 1,\n",
       " 'description=the': 1,\n",
       " 'description=to': 1,\n",
       " 'description=top': 1,\n",
       " 'description=units': 1,\n",
       " 'description=us': 1,\n",
       " 'description=washing': 1,\n",
       " 'description=water': 1,\n",
       " 'description=we': 1,\n",
       " 'description=well': 1,\n",
       " 'description=work': 1,\n",
       " 'description=years': 1}"
      ]
     },
     "execution_count": 7,
     "metadata": {},
     "output_type": "execute_result"
    }
   ],
   "source": [
    "def create_description_features(row):\n",
    "    features = {}\n",
    "    for word in word_tokenize(row['description']):\n",
    "        features[\"description=\" + word.lower()] = 1\n",
    "    return features\n",
    "\n",
    "create_description_features(data[0])"
   ]
  },
  {
   "cell_type": "markdown",
   "metadata": {},
   "source": [
    "Let's create a more generic way to transform text"
   ]
  },
  {
   "cell_type": "code",
   "execution_count": 8,
   "metadata": {
    "collapsed": false,
    "scrolled": true
   },
   "outputs": [
    {
     "data": {
      "text/plain": [
       "{'!': 1,\n",
       " '.': 1,\n",
       " '30': 1,\n",
       " 'and': 1,\n",
       " 'apps': 1,\n",
       " 'at': 1,\n",
       " 'can': 1,\n",
       " 'constantly': 1,\n",
       " 'day': 1,\n",
       " 'do': 1,\n",
       " 'get': 1,\n",
       " 'have': 1,\n",
       " 'here': 1,\n",
       " 'implement': 1,\n",
       " 'in': 1,\n",
       " 'labs': 1,\n",
       " 'latest': 1,\n",
       " 'make': 1,\n",
       " 'measure': 1,\n",
       " 'mobile': 1,\n",
       " \"n't\": 1,\n",
       " 'performance': 1,\n",
       " 'results': 1,\n",
       " 'so': 1,\n",
       " 'strategies': 1,\n",
       " 'sure': 1,\n",
       " 'technologies': 1,\n",
       " 'test': 1,\n",
       " 'the': 1,\n",
       " 'to': 1,\n",
       " 'want': 1,\n",
       " 'we': 1,\n",
       " 'what': 1,\n",
       " 'will': 1,\n",
       " 'you': 1,\n",
       " 'your': 1}"
      ]
     },
     "execution_count": 8,
     "metadata": {},
     "output_type": "execute_result"
    }
   ],
   "source": [
    "class TransformText():\n",
    "    def __init__(self, field):\n",
    "        self.field = field\n",
    "    \n",
    "    def __call__(self, row):\n",
    "        features = {}\n",
    "        for word in word_tokenize(deep_select(self.field,\"\")(row)):\n",
    "            word = word.lower()\n",
    "            features[word] = 1\n",
    "        return features\n",
    "    \n",
    "text_transformer = TransformText(['description'])\n",
    "text_transformer(data[6])"
   ]
  },
  {
   "cell_type": "code",
   "execution_count": 9,
   "metadata": {
    "collapsed": false
   },
   "outputs": [
    {
     "data": {
      "text/plain": [
       "{',': 1, 'area': 1, 'australia': 1, 'sydney': 1}"
      ]
     },
     "execution_count": 9,
     "metadata": {},
     "output_type": "execute_result"
    }
   ],
   "source": [
    "class TransformText():\n",
    "    def __init__(self, field, tokenizer = word_tokenize):\n",
    "        self.field = field\n",
    "    \n",
    "    def __call__(self, row):\n",
    "        features = {}\n",
    "        for word in word_tokenize(deep_select(self.field,\"\")(row)):\n",
    "            word = word.lower()\n",
    "            features[word] = 1\n",
    "        return features\n",
    "    \n",
    "text_transformer = TransformText(['extension', \"address\"], tokenizer = lambda x: [x])\n",
    "text_transformer(data[6])"
   ]
  },
  {
   "cell_type": "markdown",
   "metadata": {},
   "source": [
    "Exercise:\n",
    "-------------\n",
    "    \n",
    "1. Write function or classes that transform other features? You'll need a function to retrieve nested values. \n",
    "2. There are some fields which you can treat as a categorical feature or a text features. What is best and why?\n",
    "3. Write a function / class that will accept a list of transforming functions and creates a concatenation of the features\n",
    "4. Wrap previous function in a scikit-learn transformer class so we can use it in a pipeline"
   ]
  },
  {
   "cell_type": "code",
   "execution_count": 10,
   "metadata": {
    "collapsed": false,
    "scrolled": true
   },
   "outputs": [
    {
     "data": {
      "text/plain": [
       "{'address': 'Auckland, New Zealand',\n",
       " 'geo_location': {'country': 'New Zealand',\n",
       "  'formatted_address': '1010 Auckland, New Zealand',\n",
       "  'location': [-36.8534665, 174.7655514],\n",
       "  'raw': 'Auckland, New Zealand',\n",
       "  'timezone': 'Pacific/Auckland'},\n",
       " 'geo_location_triple': {'administrative_area': 'Auckland',\n",
       "  'city': 'Auckland',\n",
       "  'country': 'New Zealand'},\n",
       " 'industries': [{'count': 1, 'industry': 'Real Estate'}],\n",
       " 'job_positions': [{'count': 1,\n",
       "   'job_position': 'Owner/Director at 0800 PRO WASH'}],\n",
       " 'name': '0800 PRO WASH',\n",
       " 'persons_in_database': 1,\n",
       " 'skills': [{'count': 1, 'skill': 'Customer Service'},\n",
       "  {'count': 1, 'skill': 'Leadership'},\n",
       "  {'count': 1, 'skill': 'Training'},\n",
       "  {'count': 1, 'skill': 'Business Planning'},\n",
       "  {'count': 1, 'skill': 'Sales'},\n",
       "  {'count': 1, 'skill': 'Team Building'},\n",
       "  {'count': 1, 'skill': 'Management'},\n",
       "  {'count': 1, 'skill': 'Account Management'},\n",
       "  {'count': 1, 'skill': 'Marketing'},\n",
       "  {'count': 1, 'skill': 'Business Development'},\n",
       "  {'count': 1, 'skill': 'New Business Development'},\n",
       "  {'count': 1, 'skill': 'Negotiation'},\n",
       "  {'count': 1, 'skill': 'Sales Management'}],\n",
       " 'url': 'linkedin.com/company/0800-pro-wash'}"
      ]
     },
     "execution_count": 10,
     "metadata": {},
     "output_type": "execute_result"
    }
   ],
   "source": [
    "deep_select([\"extension\"])(data[0])"
   ]
  },
  {
   "cell_type": "code",
   "execution_count": 11,
   "metadata": {
    "collapsed": false,
    "scrolled": true
   },
   "outputs": [
    {
     "data": {
      "text/plain": [
       "{'3D': 1,\n",
       " 'Account Management': 3,\n",
       " 'Accounts Payable': 1,\n",
       " 'Accounts Receivable': 1,\n",
       " 'Active Directory': 1,\n",
       " 'Adobe Creative Suite': 1,\n",
       " 'Advertising': 2,\n",
       " 'After Effects': 1,\n",
       " 'Architecture': 1,\n",
       " 'Avid': 1,\n",
       " 'Avid Media Composer': 1,\n",
       " 'B2B': 1,\n",
       " 'Banking': 2,\n",
       " 'Blackberry': 1,\n",
       " 'Branch Management': 1,\n",
       " 'Brand Awareness': 1,\n",
       " 'Brand Development': 1,\n",
       " 'Broadcast': 1,\n",
       " 'Broadcast Journalism': 1,\n",
       " 'Broadcast Television': 1,\n",
       " 'Budgets': 1,\n",
       " 'Business Development': 2,\n",
       " 'Business Strategy': 1,\n",
       " 'CRM': 1,\n",
       " 'Camera': 1,\n",
       " 'Cloud Computing': 1,\n",
       " 'Collections': 1,\n",
       " 'Commercials': 1,\n",
       " 'Communication': 1,\n",
       " 'Construction Loans': 3,\n",
       " 'Consulting': 1,\n",
       " 'Consumer Lending': 2,\n",
       " 'Content Strategy': 1,\n",
       " 'Contract Negotiation': 3,\n",
       " 'Corporate Branding': 1,\n",
       " 'Creative Direction': 2,\n",
       " 'Creative Strategy': 1,\n",
       " 'Credit': 7,\n",
       " 'Credit Analysis': 3,\n",
       " 'Cross-functional Team Leadership': 1,\n",
       " 'Customer Acquisition': 1,\n",
       " 'Customer Retention': 2,\n",
       " 'Customer Satisfaction': 1,\n",
       " 'Customer Service': 10,\n",
       " 'Data Center': 1,\n",
       " 'Digital Marketing': 1,\n",
       " 'Digital Media': 2,\n",
       " 'Digital Video': 1,\n",
       " 'Direct Sales': 1,\n",
       " 'Directing': 1,\n",
       " 'Disaster Recovery': 1,\n",
       " 'Documentaries': 1,\n",
       " 'Editing': 1,\n",
       " 'Effectiveness': 1,\n",
       " 'Efficiency': 1,\n",
       " 'English': 1,\n",
       " 'Entertainment': 1,\n",
       " 'Entrepreneur': 1,\n",
       " 'Entrepreneurship': 1,\n",
       " 'Event Management': 1,\n",
       " 'FHA': 11,\n",
       " 'FHA Financing': 4,\n",
       " 'FHA financing': 6,\n",
       " 'Facebook': 1,\n",
       " 'Field Producing': 1,\n",
       " 'Film': 1,\n",
       " 'Film Production': 1,\n",
       " 'Final Cut Pro': 1,\n",
       " 'Final Cut Studio': 1,\n",
       " 'Financial Analysis': 1,\n",
       " 'Financial Statements': 1,\n",
       " 'First Time Home Buyers': 7,\n",
       " 'Flash': 1,\n",
       " 'Follow-through Skills': 1,\n",
       " 'Foreclosures': 1,\n",
       " 'Friendliness': 1,\n",
       " 'Government': 1,\n",
       " 'Government Contracting': 1,\n",
       " 'Government Loans': 4,\n",
       " 'Graphic Design': 1,\n",
       " 'Graphics': 1,\n",
       " 'HD Video': 1,\n",
       " 'Hands-on Training': 1,\n",
       " 'Hardware': 1,\n",
       " 'Hardware Support': 1,\n",
       " 'Human Resources': 1,\n",
       " 'Idea Generation': 1,\n",
       " 'Information Technology': 1,\n",
       " 'Inspiration': 1,\n",
       " 'Inventory Management': 1,\n",
       " 'Investment Properties': 5,\n",
       " 'Journal Entries': 1,\n",
       " 'Layout': 1,\n",
       " 'Lead Generation': 1,\n",
       " 'Leadership': 1,\n",
       " 'Live Events': 1,\n",
       " 'Live Production': 1,\n",
       " 'Loan Origination': 10,\n",
       " 'Loans': 12,\n",
       " 'Managed Services': 1,\n",
       " 'Management': 6,\n",
       " 'Marketing': 3,\n",
       " 'Marketing Strategy': 2,\n",
       " 'Media Production': 1,\n",
       " 'Merchandising': 1,\n",
       " 'Microsoft Excel': 3,\n",
       " 'Microsoft Office': 2,\n",
       " 'Microsoft Word': 1,\n",
       " 'Mobile': 1,\n",
       " 'Mobile Applications': 1,\n",
       " 'Mobile Devices': 1,\n",
       " 'Mortgage Banking': 8,\n",
       " 'Mortgage Lending': 12,\n",
       " 'Motivation': 1,\n",
       " 'Motivational Speaking': 1,\n",
       " 'Multimedia': 2,\n",
       " 'Negotiation': 4,\n",
       " 'Network Administration': 1,\n",
       " 'Network Design': 1,\n",
       " 'Network Security': 1,\n",
       " 'Networking': 2,\n",
       " 'New Business Development': 4,\n",
       " 'New Media': 1,\n",
       " 'Online Advertising': 1,\n",
       " 'Online Marketing': 1,\n",
       " 'Operational Efficiency': 1,\n",
       " 'Organization': 1,\n",
       " 'Outlook': 1,\n",
       " 'Payroll': 1,\n",
       " 'Photoshop': 1,\n",
       " 'Post Production': 1,\n",
       " 'PowerPoint': 1,\n",
       " 'Printers': 1,\n",
       " 'Producing': 1,\n",
       " 'Product Design': 1,\n",
       " 'Product Development': 1,\n",
       " 'Production Managment': 1,\n",
       " 'Project Management': 1,\n",
       " 'Promotions': 1,\n",
       " 'Public Relations': 1,\n",
       " 'Public Speaking': 1,\n",
       " 'Publicity': 1,\n",
       " 'REO': 1,\n",
       " 'Radio': 1,\n",
       " 'Radio Broadcasting': 1,\n",
       " 'Real Estate': 8,\n",
       " 'Real Estate Financing': 4,\n",
       " 'Real Estate Transactions': 1,\n",
       " 'Reality': 1,\n",
       " 'Recruiting': 1,\n",
       " 'Referrals': 1,\n",
       " 'Refinance': 10,\n",
       " 'Relocation': 1,\n",
       " 'Research': 1,\n",
       " 'Residential Homes': 4,\n",
       " 'Residential Mortgages': 11,\n",
       " 'Retail': 1,\n",
       " 'Risk Management': 1,\n",
       " 'SEM': 1,\n",
       " 'Sales': 10,\n",
       " 'Sales Management': 3,\n",
       " 'Sales Operations': 1,\n",
       " 'Salesforce.com': 1,\n",
       " 'Screenwriting': 1,\n",
       " 'Selling': 1,\n",
       " 'Server Administration': 1,\n",
       " 'Short Sales': 1,\n",
       " 'Single Family Homes': 1,\n",
       " 'Skilled Labor': 1,\n",
       " 'Small Business': 1,\n",
       " 'Social Media': 3,\n",
       " 'Social Media Marketing': 3,\n",
       " 'Social Networking': 2,\n",
       " 'Software Installation': 1,\n",
       " 'Solution Selling': 1,\n",
       " 'Sound': 1,\n",
       " 'Sports': 1,\n",
       " 'Sports Marketing': 1,\n",
       " 'Start-ups': 1,\n",
       " 'Store Management': 1,\n",
       " 'Strategic Partnerships': 1,\n",
       " 'Strategic Planning': 3,\n",
       " 'Strategy': 1,\n",
       " 'Strategy Development': 1,\n",
       " 'Talent Management': 1,\n",
       " 'Team Building': 1,\n",
       " 'Team Leadership': 1,\n",
       " 'Team Management': 1,\n",
       " 'Technical Support': 1,\n",
       " 'Television': 1,\n",
       " 'Time Management': 1,\n",
       " 'Trade Shows': 1,\n",
       " 'USDA': 7,\n",
       " 'Underwriting': 1,\n",
       " 'User Experience': 1,\n",
       " 'User Interface Design': 1,\n",
       " 'VA Loans': 3,\n",
       " 'VA loans': 6,\n",
       " 'Video': 1,\n",
       " 'Video Editing': 1,\n",
       " 'Video Production': 1,\n",
       " 'Videography': 1,\n",
       " 'Visual Merchandising': 1,\n",
       " 'VoIP': 2,\n",
       " 'Voice Over': 1,\n",
       " 'Web 2.0': 1,\n",
       " 'Web Analytics': 1,\n",
       " 'Web Design': 1,\n",
       " 'Web Development': 1,\n",
       " 'Web Video': 1,\n",
       " 'Website Development': 1,\n",
       " 'Windows': 1,\n",
       " 'Windows 7': 1,\n",
       " 'Windows XP': 1}"
      ]
     },
     "execution_count": 11,
     "metadata": {},
     "output_type": "execute_result"
    }
   ],
   "source": [
    "def create_extensions_features(row):\n",
    "    features = {}\n",
    "    for skill in deep_select(['extension', 'skills'],[])(row):\n",
    "        features[skill.get(\"skill\")] = skill.get(\"count\")\n",
    "    return features\n",
    "\n",
    "create_extensions_features(data[2])"
   ]
  },
  {
   "cell_type": "code",
   "execution_count": 12,
   "metadata": {
    "collapsed": true
   },
   "outputs": [],
   "source": [
    "def create_skills(row):\n",
    "    features = {}\n",
    "    for skill in deep_select(['extension','skills'],[])(row):\n",
    "        features[skill.get(\"skill\")] = skill.get(\"count\")\n",
    "    return features"
   ]
  },
  {
   "cell_type": "code",
   "execution_count": 24,
   "metadata": {
    "collapsed": true
   },
   "outputs": [],
   "source": [
    "def create_industries(row):\n",
    "    features = {}\n",
    "    for industry in deep_select(['extension','industries'],[])(row):\n",
    "        features[industry.get(\"industry\")] = industry.get(\"count\")\n",
    "    return features"
   ]
  },
  {
   "cell_type": "code",
   "execution_count": 25,
   "metadata": {
    "collapsed": false,
    "scrolled": true
   },
   "outputs": [
    {
     "data": {
      "text/plain": [
       "{'description_,': 1,\n",
       " 'description_.': 1,\n",
       " 'description_10': 1,\n",
       " 'description_and': 1,\n",
       " 'description_any': 1,\n",
       " 'description_apart': 1,\n",
       " 'description_as': 1,\n",
       " 'description_aucklands': 1,\n",
       " 'description_best': 1,\n",
       " 'description_blasting': 1,\n",
       " 'description_building': 1,\n",
       " 'description_chemical': 1,\n",
       " 'description_cleaning': 1,\n",
       " 'description_cleans': 1,\n",
       " 'description_commitment': 1,\n",
       " 'description_companies': 1,\n",
       " 'description_company': 1,\n",
       " 'description_complex': 1,\n",
       " 'description_customer': 1,\n",
       " 'description_decks': 1,\n",
       " 'description_driveways': 1,\n",
       " 'description_equipment': 1,\n",
       " 'description_experience': 1,\n",
       " 'description_exterior': 1,\n",
       " 'description_for': 1,\n",
       " 'description_from': 1,\n",
       " 'description_have': 1,\n",
       " 'description_hitting': 1,\n",
       " 'description_home': 1,\n",
       " 'description_homes': 1,\n",
       " 'description_house': 1,\n",
       " 'description_houses': 1,\n",
       " 'description_in': 1,\n",
       " 'description_industry': 1,\n",
       " 'description_market': 1,\n",
       " 'description_of': 1,\n",
       " 'description_or': 1,\n",
       " 'description_our': 1,\n",
       " 'description_over': 1,\n",
       " 'description_owners': 1,\n",
       " 'description_paint': 1,\n",
       " 'description_painting': 1,\n",
       " 'description_pre': 1,\n",
       " 'description_provide': 1,\n",
       " 'description_quality': 1,\n",
       " 'description_roofs': 1,\n",
       " 'description_sale': 1,\n",
       " 'description_schools': 1,\n",
       " 'description_service': 1,\n",
       " 'description_sets': 1,\n",
       " 'description_sized': 1,\n",
       " 'description_soft': 1,\n",
       " 'description_specialising': 1,\n",
       " 'description_surface': 1,\n",
       " 'description_the': 1,\n",
       " 'description_to': 1,\n",
       " 'description_top': 1,\n",
       " 'description_units': 1,\n",
       " 'description_us': 1,\n",
       " 'description_washing': 1,\n",
       " 'description_water': 1,\n",
       " 'description_we': 1,\n",
       " 'description_well': 1,\n",
       " 'description_work': 1,\n",
       " 'description_years': 1,\n",
       " 'industries_Real Estate': 1,\n",
       " 'skills_Account Management': 1,\n",
       " 'skills_Business Development': 1,\n",
       " 'skills_Business Planning': 1,\n",
       " 'skills_Customer Service': 1,\n",
       " 'skills_Leadership': 1,\n",
       " 'skills_Management': 1,\n",
       " 'skills_Marketing': 1,\n",
       " 'skills_Negotiation': 1,\n",
       " 'skills_New Business Development': 1,\n",
       " 'skills_Sales': 1,\n",
       " 'skills_Sales Management': 1,\n",
       " 'skills_Team Building': 1,\n",
       " 'skills_Training': 1,\n",
       " 'technologies_ajax libraries api': 1,\n",
       " 'technologies_apache': 1,\n",
       " 'technologies_apache 2.2': 1,\n",
       " 'technologies_apple mobile web clips icon': 1,\n",
       " 'technologies_dav': 1,\n",
       " 'technologies_google analytics': 1,\n",
       " 'technologies_google font api': 1,\n",
       " 'technologies_google hosted jquery': 1,\n",
       " 'technologies_google hosted libraries': 1,\n",
       " 'technologies_google maps': 1,\n",
       " 'technologies_google maps api': 1,\n",
       " 'technologies_google universal analytics': 1,\n",
       " 'technologies_gstatic google static content': 1,\n",
       " 'technologies_jquery': 1,\n",
       " 'technologies_jquery 1.11.0': 1,\n",
       " 'technologies_max width': 1,\n",
       " 'technologies_min width': 1,\n",
       " 'technologies_mod_ssl': 1,\n",
       " 'technologies_mod_ssl 2.2.23': 1,\n",
       " 'technologies_openssl': 1,\n",
       " 'technologies_openssl 1.0.0': 1,\n",
       " 'technologies_oss cdn': 1,\n",
       " 'technologies_php': 1,\n",
       " 'technologies_rackspace dns cloud': 1,\n",
       " 'technologies_rackspace email hosting': 1,\n",
       " 'technologies_unix': 1,\n",
       " 'technologies_viewport meta': 1}"
      ]
     },
     "execution_count": 25,
     "metadata": {},
     "output_type": "execute_result"
    }
   ],
   "source": [
    "def combine_features(fs):\n",
    "\n",
    "    def helper(row):\n",
    "        all_features = {}\n",
    "        for name, f in fs:\n",
    "            for k,v in f(row).items():\n",
    "                all_features[name + \"_\" + k] = v\n",
    "        return all_features\n",
    "\n",
    "    return helper\n",
    "\n",
    "company_data = {\n",
    "    'description': 'Fortune 500 hundred company company',\n",
    "    'technologies': ['sql server', 'c#']\n",
    "}\n",
    "\n",
    "\n",
    "features_generator = combine_features([('description', TransformText(['description'])), \n",
    "                                       ('technologies', create_technologies_features),\n",
    "                                      ('skills', create_skills),\n",
    "                                      (\"industries\", create_industries)]) \n",
    "\n",
    "features_generator(data[0])"
   ]
  },
  {
   "cell_type": "code",
   "execution_count": 30,
   "metadata": {
    "collapsed": false,
    "scrolled": true
   },
   "outputs": [
    {
     "data": {
      "text/plain": [
       "<10000x178381 sparse matrix of type '<class 'numpy.float64'>'\n",
       "\twith 1467091 stored elements in Compressed Sparse Row format>"
      ]
     },
     "execution_count": 30,
     "metadata": {},
     "output_type": "execute_result"
    }
   ],
   "source": [
    "from sklearn.base import BaseEstimator, TransformerMixin\n",
    "from sklearn.pipeline import make_pipeline\n",
    "from sklearn.feature_extraction import DictVectorizer\n",
    "\n",
    "class JsonTransformer(BaseEstimator, TransformerMixin):\n",
    "    \n",
    "    def __init__(self, fs):\n",
    "        self.fs = fs\n",
    "        \n",
    "    def fit(self, X, y=None):\n",
    "        return self\n",
    "    \n",
    "    def transform(self, X, y=None):\n",
    "        out = []\n",
    "        for x in X:\n",
    "            out.append(combine_features(self.fs)(x))\n",
    "        return out\n",
    "    \n",
    "pipeline = make_pipeline(\n",
    "    JsonTransformer([('description', TransformText(['description'])), \n",
    "                     ('technologies', create_technologies_features),\n",
    "                      #(\"industries\", create_industries),\n",
    "                    ('skills', create_skills)]),\n",
    "    DictVectorizer()\n",
    ")\n",
    "\n",
    "pipeline.fit_transform(data)"
   ]
  },
  {
   "cell_type": "code",
   "execution_count": 15,
   "metadata": {
    "collapsed": false,
    "scrolled": true
   },
   "outputs": [
    {
     "data": {
      "text/plain": [
       "(10000, 178381)"
      ]
     },
     "execution_count": 15,
     "metadata": {},
     "output_type": "execute_result"
    }
   ],
   "source": [
    "X = pipeline.fit_transform(data)\n",
    "X.shape"
   ]
  },
  {
   "cell_type": "markdown",
   "metadata": {},
   "source": [
    "Number of features is really high. We need to reduce this. We can remove too sparse values.\n",
    "To check the sparsity of the data we can use a method\n",
    "\n",
    "X.getnnz (number of non-zero values)"
   ]
  },
  {
   "cell_type": "code",
   "execution_count": 16,
   "metadata": {
    "collapsed": false
   },
   "outputs": [
    {
     "data": {
      "text/plain": [
       "array([854, 104,  90, ...,   1,   8,  66])"
      ]
     },
     "execution_count": 16,
     "metadata": {},
     "output_type": "execute_result"
    }
   ],
   "source": [
    "X.getnnz(0)"
   ]
  },
  {
   "cell_type": "markdown",
   "metadata": {},
   "source": [
    "Exercise\n",
    "===============\n",
    "\n",
    "1. Write a transformation class called SparsityFilter that accepts a minimum frequency. Watch out for fit function - this class has some state that you must save\n",
    "\n",
    "```\n",
    "class SparsityFilter(BaseEstimator, TransformerMixin):\n",
    "    def __init__(self, min_nnz=None):\n",
    "        self.min_nnz = min_nnz\n",
    "\n",
    "    def fit(self, X, y=None):\n",
    "        ???\n",
    "        return self\n",
    "\n",
    "    def transform(self, X):\n",
    "        return ???\n",
    "```"
   ]
  },
  {
   "cell_type": "code",
   "execution_count": 27,
   "metadata": {
    "collapsed": true
   },
   "outputs": [],
   "source": [
    "# write sparsity function here\n",
    "class SparsityFilter(BaseEstimator, TransformerMixin):\n",
    "    def __init__(self, min_nnz=None):\n",
    "        self.min_nnz = min_nnz\n",
    "\n",
    "    def fit(self, X, y=None):\n",
    "        self.sparsity = X.getnnz(0)\n",
    "        return self\n",
    "\n",
    "    def transform(self, X):\n",
    "        return X[:, self.sparsity >= self.min_nnz]"
   ]
  },
  {
   "cell_type": "markdown",
   "metadata": {},
   "source": [
    "Double click to see the solution \n",
    "\n",
    "<div class=\"spoiler\">\n",
    "\n",
    "class SparsityFilter(BaseEstimator, TransformerMixin):\n",
    "    def __init__(self, min_nnz=None):\n",
    "        self.min_nnz = min_nnz\n",
    "\n",
    "    def fit(self, X, y=None):\n",
    "        self.sparsity = X.getnnz(0)\n",
    "        return self\n",
    "\n",
    "    def transform(self, X):\n",
    "        return X[:, self.sparsity >= self.min_nnz]\n",
    "</div>"
   ]
  },
  {
   "cell_type": "code",
   "execution_count": 28,
   "metadata": {
    "collapsed": false
   },
   "outputs": [
    {
     "data": {
      "text/plain": [
       "(10000, 4235)"
      ]
     },
     "execution_count": 28,
     "metadata": {},
     "output_type": "execute_result"
    }
   ],
   "source": [
    "pipeline = make_pipeline(\n",
    "    JsonTransformer([('description', TransformText('description')), \n",
    "                     ('technologies', create_technologies_features),\n",
    "                      (\"industries\", create_industries),\n",
    "                     ('skills', create_skills)]),\n",
    "    DictVectorizer(),\n",
    "    SparsityFilter(min_nnz=25)\n",
    ")\n",
    "\n",
    "X = pipeline.fit_transform(data)\n",
    "X.shape"
   ]
  },
  {
   "cell_type": "markdown",
   "metadata": {},
   "source": [
    "You should see a shape that is much smaller than the original"
   ]
  },
  {
   "cell_type": "markdown",
   "metadata": {},
   "source": [
    "Exercise\n",
    "================\n",
    "\n",
    "1. Build a model - try to predict the industry.\n",
    "2. Evaluate its results using cross validation - what would be the best measure for this problem?"
   ]
  },
  {
   "cell_type": "code",
   "execution_count": 31,
   "metadata": {
    "collapsed": false
   },
   "outputs": [
    {
     "name": "stderr",
     "output_type": "stream",
     "text": [
      "/home/ramya/anaconda3/lib/python3.6/site-packages/sklearn/cross_validation.py:552: Warning: The least populated class in y has only 1 members, which is too few. The minimum number of labels for any class cannot be less than n_folds=3.\n",
      "  % (min_labels, self.n_folds)), Warning)\n"
     ]
    },
    {
     "name": "stdout",
     "output_type": "stream",
     "text": [
      "Accuracy = 0.3871\n"
     ]
    }
   ],
   "source": [
    "# write solution here\n",
    "from xgboost import XGBClassifier\n",
    "from sklearn.cross_validation import cross_val_predict\n",
    "\n",
    "pipeline = make_pipeline(\n",
    "    JsonTransformer([('description', TransformText(['description'])), \n",
    "                     ('technologies', create_technologies_features),\n",
    "                      #(\"industries\", create_industries),\n",
    "                     ('skills', create_skills)]),\n",
    "    DictVectorizer(),\n",
    "    SparsityFilter(min_nnz=25),\n",
    "    XGBClassifier()\n",
    ")\n",
    "\n",
    "X = data\n",
    "y = [row['industries'][0] if len(row['industries']) else \"\" for row in data]\n",
    "\n",
    "predictions = cross_val_predict(pipeline, X, y)\n",
    "\n",
    "print(\"Accuracy = {}\".format((predictions == np.array(y)).mean()))\n"
   ]
  },
  {
   "cell_type": "markdown",
   "metadata": {},
   "source": [
    "Click to see the solution\n",
    "\n",
    "<div class=\"spoiler\">\n",
    "\n",
    "from xgboost import XGBClassifier\n",
    "from sklearn.cross_validation import cross_val_predict\n",
    "\n",
    "pipeline = make_pipeline(\n",
    "    JsonTransformer([('description', TransformText('description')), \n",
    "                     ('technologies', create_technologies_features)]),\n",
    "    DictVectorizer(),\n",
    "    SparsityFilter(min_nnz=25),\n",
    "    XGBClassifier()\n",
    ")\n",
    "\n",
    "X = data\n",
    "y = [row['industries'][0] if len(row['industries']) else \"\" for row in data]\n",
    "\n",
    "predictions = cross_val_predict(pipeline, X, y)\n",
    "\n",
    "print(\"Accuracy = {}\".format((predictions == np.array(y)).mean()))\n",
    "\n",
    "</div>"
   ]
  },
  {
   "cell_type": "code",
   "execution_count": null,
   "metadata": {
    "collapsed": true
   },
   "outputs": [],
   "source": []
  },
  {
   "cell_type": "code",
   "execution_count": null,
   "metadata": {
    "collapsed": true
   },
   "outputs": [],
   "source": []
  }
 ],
 "metadata": {
  "kernelspec": {
   "display_name": "Python 3",
   "language": "python",
   "name": "python3"
  },
  "language_info": {
   "codemirror_mode": {
    "name": "ipython",
    "version": 3
   },
   "file_extension": ".py",
   "mimetype": "text/x-python",
   "name": "python",
   "nbconvert_exporter": "python",
   "pygments_lexer": "ipython3",
   "version": "3.5.1"
  }
 },
 "nbformat": 4,
 "nbformat_minor": 0
}
